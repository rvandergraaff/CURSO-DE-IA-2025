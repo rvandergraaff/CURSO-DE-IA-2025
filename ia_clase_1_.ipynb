{
  "nbformat": 4,
  "nbformat_minor": 0,
  "metadata": {
    "colab": {
      "provenance": [],
      "authorship_tag": "ABX9TyNA/L8oknJHaxHL4CiWlpj5",
      "include_colab_link": true
    },
    "kernelspec": {
      "name": "python3",
      "display_name": "Python 3"
    },
    "language_info": {
      "name": "python"
    }
  },
  "cells": [
    {
      "cell_type": "markdown",
      "metadata": {
        "id": "view-in-github",
        "colab_type": "text"
      },
      "source": [
        "<a href=\"https://colab.research.google.com/github/rvandergraaff/CURSO-DE-IA-2025/blob/main/ia_clase_1_.ipynb\" target=\"_parent\"><img src=\"https://colab.research.google.com/assets/colab-badge.svg\" alt=\"Open In Colab\"/></a>"
      ]
    },
    {
      "cell_type": "code",
      "execution_count": null,
      "metadata": {
        "id": "EiP4xBoni_JN"
      },
      "outputs": [],
      "source": [
        "# Hola Mundo en Python (versión básica)\n",
        "print(\"¡Hola Mundo!\")\n",
        "\n",
        "# Versión con variables\n",
        "mensaje = \"¡Hola Mundo desde Python!\"\n",
        "print(mensaje)\n",
        "\n",
        "# Versión con función\n",
        "def saludar():\n",
        "    print(\"¡Hola Mundo desde una función!\")\n",
        "\n",
        "saludar()"
      ]
    },
    {
      "cell_type": "code",
      "source": [
        "# Hola Muchachos en Python (versión básica)\n",
        "print(\"¡Hola muchachos!\")\n",
        "\n",
        "# Versión con variables\n",
        "mensaje = \"¡Hola Mundo desde Python!\"\n",
        "print(mensaje)\n",
        "\n",
        "# Versión con función\n",
        "def saludar():\n",
        "    print(\"¡Hola Mundo desde una función!\")\n",
        "\n",
        "saludar()"
      ],
      "metadata": {
        "id": "fNhlJGUt52kp"
      },
      "execution_count": null,
      "outputs": []
    }
  ]
}