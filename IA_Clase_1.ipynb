{
  "nbformat": 4,
  "nbformat_minor": 0,
  "metadata": {
    "colab": {
      "provenance": [],
      "authorship_tag": "ABX9TyP4zr2TyRzML1mO6Th0yf6e",
      "include_colab_link": true
    },
    "kernelspec": {
      "name": "python3",
      "display_name": "Python 3"
    },
    "language_info": {
      "name": "python"
    }
  },
  "cells": [
    {
      "cell_type": "markdown",
      "metadata": {
        "id": "view-in-github",
        "colab_type": "text"
      },
      "source": [
        "<a href=\"https://colab.research.google.com/github/rvandergraaff/CURSO-DE-IA-2025/blob/main/IA_Clase_1.ipynb\" target=\"_parent\"><img src=\"https://colab.research.google.com/assets/colab-badge.svg\" alt=\"Open In Colab\"/></a>"
      ]
    },
    {
      "cell_type": "code",
      "execution_count": 2,
      "metadata": {
        "colab": {
          "base_uri": "https://localhost:8080/"
        },
        "id": "ZkpTgVqQ23FI",
        "outputId": "de169757-f500-453b-a47a-3b46807a7afd"
      },
      "outputs": [
        {
          "output_type": "stream",
          "name": "stdout",
          "text": [
            "Hola mundo\n"
          ]
        }
      ],
      "source": [
        "'''EJERCICIO 1\n",
        "uso de la función print\n",
        "'''\n",
        "print(\"Hola mundo\")"
      ]
    },
    {
      "cell_type": "code",
      "source": [
        "'''EJERCICIO 2\n",
        "   concatenacion\n",
        "'''\n",
        "nombre = \"\"\n",
        "apellido = \"\"\n",
        "print(\"Ingrese nombre\")\n",
        "input(nombre)\n",
        "print(\"ingrese apellido\")\n",
        "input(apellido)\n",
        "print(nombre + \" \" + apellido)\n"
      ],
      "metadata": {
        "colab": {
          "base_uri": "https://localhost:8080/"
        },
        "id": "ZSR573wH3X1L",
        "outputId": "a525f036-81e9-40c5-e847-99541c343e6c"
      },
      "execution_count": null,
      "outputs": [
        {
          "output_type": "stream",
          "name": "stdout",
          "text": [
            "Ingrese nombre\n"
          ]
        }
      ]
    },
    {
      "cell_type": "code",
      "source": [
        "'''EJERCICIO 1'''\n",
        "print(\"hola mundo\")"
      ],
      "metadata": {
        "id": "5TS8rHaA4vfW"
      },
      "execution_count": null,
      "outputs": []
    },
    {
      "cell_type": "code",
      "source": [
        "'''EJERCICIO 2'''\n",
        "nombre = \"\"\n",
        "print(\"Cual es tu nombre?\")\n",
        "input(nombre)\n",
        "print(\"Tu nombre es \" + nombre)"
      ],
      "metadata": {
        "id": "nct69MvH4-CB"
      },
      "execution_count": null,
      "outputs": []
    },
    {
      "cell_type": "code",
      "source": [
        "'''EJERCICIO 3'''\n",
        "nombre = \"\"\n",
        "apellido = \"\"\n",
        "print(\"Cual es tu nombre?\")\n",
        "input(nombre)\n",
        "print(\"Cual es tu apellido?\")\n",
        "input(apellido)\n",
        "print(\"Tu nombre es \" + nombre + \" \" + apellido)\n"
      ],
      "metadata": {
        "id": "tLST2GeW5pfl"
      },
      "execution_count": null,
      "outputs": []
    }
  ]
}